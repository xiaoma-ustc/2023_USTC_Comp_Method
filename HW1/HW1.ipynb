{
 "cells": [
  {
   "cell_type": "code",
   "execution_count": 3,
   "metadata": {},
   "outputs": [],
   "source": [
    "import numpy as np\n",
    "import math\n",
    "import pandas as pd\n",
    "from numpy.linalg import solve \n",
    "from scipy.optimize import fsolve"
   ]
  },
  {
   "cell_type": "code",
   "execution_count": 46,
   "metadata": {},
   "outputs": [],
   "source": [
    "def L(Px, Qx, Qy, theta):\n",
    "    f = -((Px * math.sin(theta)) / (math.sqrt(Px ** 2 + 2 * Px * math.cos(theta) + 1))\n",
    "        + (Qx * math.sin(theta) + Qy * math.cos(theta)) / (math.sqrt(Qx ** 2 + Qy **2 + 2 * Qx * math.cos(theta)- 2 * Qy * math.sin(theta) + 1 + 1e-12)))\n",
    "    return f"
   ]
  },
  {
   "cell_type": "code",
   "execution_count": 74,
   "metadata": {},
   "outputs": [],
   "source": [
    "#输入坐标\n",
    "Px = -3\n",
    "Qx = -1\n",
    "Qy = 0.5\n"
   ]
  },
  {
   "cell_type": "code",
   "execution_count": 75,
   "metadata": {},
   "outputs": [],
   "source": [
    "#迭代过程\n",
    "theta1 = math.asin(1)\n",
    "theta2 = 0\n",
    "theta3 = 0\n",
    "while True:\n",
    "    theta3 = (theta1 + theta2) / 2\n",
    "    \n",
    "    f1 = L(Px, Qx, Qy, theta1)\n",
    "    f2 = L(Px, Qx, Qy, theta2)\n",
    "    f3 = L(Px, Qx, Qy, theta3)\n",
    "    #print(f3)\n",
    "    if abs(f3) < 0.00001:\n",
    "        break\n",
    "    if f1 * f3 < 0:\n",
    "        theta2 = theta3\n",
    "    elif f2 * f3 < 0:\n",
    "        theta1 = theta3\n",
    "\n",
    "Rx = ((Qy + Qx * math.tan(theta3)) * (math.cos(theta3) + Px) - Px * math.sin(theta3)) / (math.tan(theta3) * (math.cos(theta3) + Px) - math.sin(theta3))\n",
    "Ry = (math.sin(theta3) * (Px - Rx)) / (math.cos(theta3) + Px)\n",
    "Tx = - math.cos(theta3)\n",
    "Ty = math.sin(theta3)"
   ]
  },
  {
   "cell_type": "code",
   "execution_count": 76,
   "metadata": {},
   "outputs": [
    {
     "name": "stdout",
     "output_type": "stream",
     "text": [
      "T  (-0.9226156336018817, 0.3857206147374009)\n",
      "R  (-0.7869183906864143, 0.41091634875858085)\n"
     ]
    }
   ],
   "source": [
    "#输出结果\n",
    "print('T  ' + str((Tx, Ty)))\n",
    "print('R  ' + str((Rx, Ry)))\n"
   ]
  },
  {
   "cell_type": "code",
   "execution_count": null,
   "metadata": {},
   "outputs": [],
   "source": []
  }
 ],
 "metadata": {
  "kernelspec": {
   "display_name": "base",
   "language": "python",
   "name": "python3"
  },
  "language_info": {
   "codemirror_mode": {
    "name": "ipython",
    "version": 3
   },
   "file_extension": ".py",
   "mimetype": "text/x-python",
   "name": "python",
   "nbconvert_exporter": "python",
   "pygments_lexer": "ipython3",
   "version": "3.9.13"
  },
  "orig_nbformat": 4
 },
 "nbformat": 4,
 "nbformat_minor": 2
}
